{
 "cells": [
  {
   "cell_type": "markdown",
   "metadata": {},
   "source": [
    "##### Classification"
   ]
  },
  {
   "cell_type": "markdown",
   "metadata": {},
   "source": [
    "- Classification is a supervised learning technique used in machine learning and statistics to predict the category or class of a given data point.\n",
    "- The primary objective is to assign each input data point to one of a finite set of discrete categories. \n",
    "- Classification is widely used in various fields, including medicine, finance, marketing, and more."
   ]
  },
  {
   "cell_type": "markdown",
   "metadata": {},
   "source": [
    "### Types of Classification\n",
    "\n",
    "1. <b>Binary Classification</b>\n",
    "\n",
    "    - Involves two classes. Examples include:\n",
    "    \n",
    "        - **Email classification**: spam vs. not spam.\n",
    "        - **Medical diagnosis**: disease present vs. disease absent.\n",
    "\n",
    "2. <b>Multi-Class Classification</b>\n",
    "\n",
    "    - Involves more than two classes. Examples include:\n",
    "\n",
    "        - **Handwritten digit recognition**: digits 0 to 9.\n",
    "        - **Animal classification**: cat, dog, bird, etc.\n",
    "\n",
    "3. <b>Multi-Label Classification</b>\n",
    "\n",
    "    - Each instance can belong to multiple classes simultaneously. Examples include:\n",
    "\n",
    "        - **Document classification**: a document can be tagged with multiple topics.\n",
    "        - **Image tagging**: an image can have multiple tags like \"beach\", \"sunset\", and \"vacation\".\n"
   ]
  },
  {
   "cell_type": "markdown",
   "metadata": {},
   "source": [
    "### Common Classification Algorithms\n",
    "\n",
    "1. <b>Logistic Regression</b>\n",
    "\n",
    "    - A linear model used for binary classification problems.\n",
    "\n",
    "2. <b>Decision Trees</b>\n",
    "\n",
    "    - Tree-like model of decisions used for both binary and multi-class classification.\n",
    "\n",
    "3. <b>Random Forest</b>\n",
    "\n",
    "    - An ensemble of decision trees used to improve classification performance.\n",
    "\n",
    "4. <b>Support Vector Machines (SVM)</b>\n",
    "\n",
    "    - Finds the hyperplane that best separates the classes.\n",
    "\n",
    "5. <b>Naive Bayes</b>\n",
    "\n",
    "    - Based on Bayes' theorem, assumes independence between features.\n",
    "\n",
    "6. <b>K-Nearest Neighbors (KNN)</b>\n",
    "\n",
    "    - Classifies a data point based on the majority class of its k-nearest neighbors.\n",
    "\n",
    "7. <b>Neural Networks</b>\n",
    "\n",
    "    - Used for complex tasks, including image and speech recognition.\n",
    "\n",
    "8. <b>Gradient Boosting Machines (e.g., XGBoost, LightGBM)</b>\n",
    "\n",
    "    - Ensemble techniques that build models sequentially to reduce errors.\n"
   ]
  },
  {
   "cell_type": "markdown",
   "metadata": {},
   "source": []
  }
 ],
 "metadata": {
  "language_info": {
   "name": "python"
  }
 },
 "nbformat": 4,
 "nbformat_minor": 2
}
