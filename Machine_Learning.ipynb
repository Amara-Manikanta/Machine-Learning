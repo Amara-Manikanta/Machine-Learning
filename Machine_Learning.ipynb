{
 "cells": [
  {
   "cell_type": "markdown",
   "metadata": {},
   "source": [
    "Major Machine Learning teachniques:\n",
    " - Regression/Estimation\n",
    " - Classification\n",
    " - Clustering\n",
    " - Associations\n",
    " - Anomaly Detection\n",
    " - Sequance mining\n",
    " - Dimension Reduction\n",
    " - Recommendation Systems"
   ]
  },
  {
   "cell_type": "markdown",
   "metadata": {},
   "source": [
    "Python Packages used in ML are:\n",
    "\n",
    "- Numpy\n",
    "- Scipy\n",
    "- Matplotlib\n",
    "- Pandas\n",
    "- sckit-learn"
   ]
  },
  {
   "cell_type": "markdown",
   "metadata": {},
   "source": [
    "Types of supervised learning: \n",
    "- Classification : \n",
    "    is the process of predicting discrete class labels or categories.\n",
    "- Regression: \n",
    "    is the process of predicting continous values."
   ]
  },
  {
   "cell_type": "markdown",
   "metadata": {},
   "source": [
    "Unsupervised Learning teachniques are:\n",
    "- Dimension reduction\n",
    "- Density estimation\n",
    "- Market basket analysis\n",
    "- Clustering:\n",
    "    Grouping of data points or objects that are somehow similar by:\n",
    "     - Discovering structure\n",
    "     - Summerization\n",
    "     - Anomaly detection"
   ]
  },
  {
   "cell_type": "markdown",
   "metadata": {},
   "source": [
    "Diffrence between Supervised and unsupervised \n",
    "| Supervised | Unsupervised |\n",
    "| --- | --- |\n",
    "| Classification : classifies labeled data | clustering : finds patterns and groupings from unlabeled data |\n",
    "| Regression: predicts trends using previous labeled data | Has a fewer evaluation methods than supervised learning |\n",
    "| Has more evaluation methods than unsupervised learning. | Less Controlled environment.|\n",
    "| Controlled environment |"
   ]
  },
  {
   "cell_type": "markdown",
   "metadata": {},
   "source": [
    "Regression algorithms :\n",
    "- Ordinal regression\n",
    "- Poisson regression\n",
    "- Fast forest Quantile regression\n",
    "- Linear, Polynomial, Lasso, Stepwise, Ridge regression\n",
    "- Bayesian Linear regression\n",
    "- Neural network regression\n",
    "- Decision forest regression\n",
    "- Boosted decision tree regression\n",
    "- KNN (K-nearest neighbors)"
   ]
  },
  {
   "cell_type": "markdown",
   "metadata": {},
   "source": []
  }
 ],
 "metadata": {
  "kernelspec": {
   "display_name": "Python 3",
   "language": "python",
   "name": "python3"
  },
  "language_info": {
   "codemirror_mode": {
    "name": "ipython",
    "version": 3
   },
   "file_extension": ".py",
   "mimetype": "text/x-python",
   "name": "python",
   "nbconvert_exporter": "python",
   "pygments_lexer": "ipython3",
   "version": "3.10.5"
  }
 },
 "nbformat": 4,
 "nbformat_minor": 2
}
