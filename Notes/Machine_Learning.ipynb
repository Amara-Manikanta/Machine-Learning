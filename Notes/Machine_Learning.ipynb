{
 "cells": [
  {
   "cell_type": "markdown",
   "metadata": {},
   "source": [
    "Python Packages used in ML are:\n",
    "\n",
    "- Numpy\n",
    "- Scipy\n",
    "- Matplotlib\n",
    "- Pandas\n",
    "- Sckit-learn"
   ]
  },
  {
   "cell_type": "markdown",
   "metadata": {},
   "source": [
    "\n",
    "Machine Learning (ML) is broadly categorized into two main types: \n",
    "- <b>Supervised Learning</b> :\n",
    "    - The model is trained on a labeled dataset, which means that each training example is paired with an       output label. \n",
    "    - The goal is to learn a mapping from inputs to outputs.\n",
    "    - Types of Supervised Learning:\n",
    "        - <b>Regression</b>: \n",
    "            - The output variable is continuous and the goal is to predict a numerical value. \n",
    "            - Examples include predicting house prices, stock prices, etc.\n",
    "            - Example Algorithms: Linear Regression, Ridge Regression, Lasso Regression, Polynomial Regression.\n",
    "        - <b>Classification</b>: \n",
    "            - The output variable is categorical and the goal is to predict a category label. \n",
    "            - Examples include spam detection, image classification, etc.\n",
    "            - Example Algorithms: Logistic Regression, Support Vector Machines (SVM), Decision Trees, Random Forest, k-Nearest Neighbors (k-NN), Neural Networks.\n",
    "    - Regression algorithms :\n",
    "        - Ordinal regression\n",
    "        - Poisson regression\n",
    "        - Fast forest Quantile regression\n",
    "        - Linear, Polynomial, Lasso, Stepwise, Ridge regression\n",
    "        - Bayesian Linear regression\n",
    "        - Neural network regression\n",
    "        - Decision forest regression\n",
    "        - Boosted decision tree regression\n",
    "        - KNN (K-nearest neighbors)\n",
    "- <b>Unsupervised Learning </b>:\n",
    "    - The model is trained on data that does not have labeled responses. \n",
    "    - The goal is to infer the natural structure present within a set of data points.\n",
    "    - Types of Unsupervised Learning:\n",
    "        - <b>Clustering </b>: \n",
    "            - The goal is to group a set of objects in such a way that objects in the same group are more similar to each other than to those in other groups.\n",
    "            - Grouping of data points or objects that are somehow similar by:\n",
    "                - Discovering structure\n",
    "                - Summerization\n",
    "                - Anomaly detection\n",
    "            - Example Algorithms: k-Means, Hierarchical Clustering, DBSCAN.\n",
    "        - <b>Dimensionality Reduction </b>: \n",
    "            - The goal is to reduce the number of random variables under consideration, by obtaining a set of principal variables.\n",
    "            - Example Algorithms: Principal Component Analysis (PCA), t-Distributed Stochastic Neighbor Embedding (t-SNE), Singular Value Decomposition (SVD).\n",
    "    - Unsupervised Learning teachniques are:\n",
    "        - Dimension reduction\n",
    "        - Density estimation\n",
    "        - Market basket analysis\n",
    "        - Clustering\n",
    "           \n",
    "\n",
    "\n",
    "\n"
   ]
  },
  {
   "cell_type": "markdown",
   "metadata": {},
   "source": [
    "Diffrence between Supervised and unsupervised \n",
    "|  | Supervised | Unsupervised |\n",
    "| ---- | --- | --- |\n",
    "| Labeled Data: | Requires labeled data. | Does not require labeled data. |\n",
    "|  | Classification : classifies labeled data | clustering : finds patterns and groupings from unlabeled data |\n",
    "| Goal: | Predict an output based on input data. | Discover the underlying structure or distribution in the data.|\n",
    "|  |Regression: predicts trends using previous labeled data | Has a fewer evaluation methods than supervised learning |\n",
    "|  | Has more evaluation methods than unsupervised learning. | Less Controlled environment.|\n",
    "|  | Controlled environment |\n",
    "|  Applications: | Suitable for tasks where historical data with labels is available.| Suitable for tasks where labels are not available, or we want to understand the structure of data. |"
   ]
  },
  {
   "cell_type": "markdown",
   "metadata": {},
   "source": [
    "                        <b>Regression</b>\n",
    "- <b>Simple Linear Regression</b>\n",
    "    - Only one independent variable is used to estimate one dependent variable.\n",
    "    - we will have two variables:\n",
    "        - Y-dependent Variable -> this shoud be continous variable not a category type.\n",
    "        - X- Independent Variable\n",
    "    - y=β0+β1x+ϵ\n",
    "        - y : The dependent variable (the outcome or response variable you are trying to predict).\n",
    "        - 𝑥 : The independent variable (the predictor or explanatory variable).\n",
    "        - 𝛽0 : The intercept of the regression line (the value of 𝑦 when 𝑥 is 0).\n",
    "        - 𝛽1 : The slope of the regression line (the change in y for a one-unit change in 𝑥).\n",
    "        - 𝜖 : The error term (the difference between the observed and predicted values of 𝑦).\n",
    "- <b>Multiple Linear Regression</b>\n",
    "    - When more than one independent variable is present."
   ]
  },
  {
   "cell_type": "markdown",
   "metadata": {},
   "source": []
  }
 ],
 "metadata": {
  "kernelspec": {
   "display_name": "Python 3",
   "language": "python",
   "name": "python3"
  },
  "language_info": {
   "codemirror_mode": {
    "name": "ipython",
    "version": 3
   },
   "file_extension": ".py",
   "mimetype": "text/x-python",
   "name": "python",
   "nbconvert_exporter": "python",
   "pygments_lexer": "ipython3",
   "version": "3.10.5"
  }
 },
 "nbformat": 4,
 "nbformat_minor": 2
}
